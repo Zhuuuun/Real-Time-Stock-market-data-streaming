{
 "cells": [
  {
   "cell_type": "code",
   "execution_count": null,
   "id": "c0d8066c",
   "metadata": {},
   "outputs": [],
   "source": [
    "from kafka import KafkaProducer\n",
    "from json import dumps\n",
    "import json\n",
    "from time import sleep\n",
    "import requests"
   ]
  },
  {
   "cell_type": "code",
   "execution_count": null,
   "id": "e98e9592",
   "metadata": {},
   "outputs": [],
   "source": [
    "#Create object producer \n",
    "producer = KafkaProducer(bootstrap_servers=[':9092'], #put your public IP in front of :\n",
    "                         value_serializer=lambda x: \n",
    "                         dumps(x).encode('utf-8'))"
   ]
  },
  {
   "cell_type": "code",
   "execution_count": null,
   "id": "8b2329bd",
   "metadata": {},
   "outputs": [],
   "source": [
    "#Api protocol\n",
    "url = \"https://twelve-data1.p.rapidapi.com/\"\n",
    "endpoint_stock = \"stocks\"\n",
    "endpoint_quote = \"quote\"\n",
    "\n",
    "headers = {\n",
    "\t\"X-RapidAPI-Key\": \"\", #Put your API key in \" \"\n",
    "\t\"X-RapidAPI-Host\": \"\" #Put your API host in \" \"\n",
    "}    "
   ]
  },
  {
   "cell_type": "code",
   "execution_count": null,
   "id": "691e0c03",
   "metadata": {},
   "outputs": [],
   "source": [
    "#get stocks name from NASDAQ\n",
    "name_querystring = {\"exchange\":\"NASDAQ\",\"format\":\"json\"}\n",
    "name_response = requests.request(\"GET\", url+endpoint_stock, headers=headers, params=name_querystring)\n",
    "name = name_response.json()[\"data\"]\n",
    "stocks_name = []\n",
    "for n in name : \n",
    "    stocks_name.append(n[\"symbol\"])\n",
    "stocks_name.remove(\"AACOU\") #avoid this stock because api went to some error"
   ]
  },
  {
   "cell_type": "code",
   "execution_count": null,
   "id": "3dec3f03",
   "metadata": {},
   "outputs": [],
   "source": [
    "#get data and send to consumer\n",
    "for d in stocks_name :\n",
    "    quote_response = requests.request(\"GET\", url+endpoint_quote, headers=headers, params={\"symbol\": d ,\"interval\":\"1day\",\"outputsize\":\"30\",\"format\":\"json\"})\n",
    "    data = quote_response.json()\n",
    "    buffer = {\n",
    "        \"symbol\" : data[\"symbol\"],\n",
    "        \"date\" : data[\"datetime\"],\n",
    "        \"open\" : data[\"open\"],\n",
    "        \"high\" : data[\"high\"] ,\n",
    "        \"low\" : data[\"low\"],\n",
    "        \"close\" : data[\"close\"],\n",
    "        \"volume\" : data[\"volume\"]\n",
    "    }\n",
    "    buffer = json.dumps(buffer)\n",
    "    value = json.loads(buffer)\n",
    "    producer.send(' ', value=value) #put the topic name in ' '\n",
    "    sleep(10) #Due to avoid disconnection"
   ]
  }
 ],
 "metadata": {
  "kernelspec": {
   "display_name": "Python 3 (ipykernel)",
   "language": "python",
   "name": "python3"
  },
  "language_info": {
   "codemirror_mode": {
    "name": "ipython",
    "version": 3
   },
   "file_extension": ".py",
   "mimetype": "text/x-python",
   "name": "python",
   "nbconvert_exporter": "python",
   "pygments_lexer": "ipython3",
   "version": "3.10.5"
  }
 },
 "nbformat": 4,
 "nbformat_minor": 5
}
