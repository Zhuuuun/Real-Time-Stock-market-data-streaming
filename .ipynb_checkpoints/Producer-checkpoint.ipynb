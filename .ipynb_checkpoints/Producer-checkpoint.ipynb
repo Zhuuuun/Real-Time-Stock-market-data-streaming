{
 "cells": [
  {
   "cell_type": "code",
   "execution_count": 1,
   "id": "f55a700f",
   "metadata": {},
   "outputs": [],
   "source": [
    "from kafka import KafkaProducer\n",
    "from json import dumps\n",
    "import json\n",
    "from time import sleep\n",
    "import requests"
   ]
  },
  {
   "cell_type": "code",
   "execution_count": 2,
   "id": "422c38aa",
   "metadata": {},
   "outputs": [],
   "source": [
    "#Create object producer \n",
    "producer = KafkaProducer(bootstrap_servers=[':9092'], #put your public IP in front of :\n",
    "                         value_serializer=lambda x: \n",
    "                         dumps(x).encode('utf-8'))"
   ]
  },
  {
   "cell_type": "code",
   "execution_count": 3,
   "id": "947e9725",
   "metadata": {},
   "outputs": [],
   "source": [
    "#Api protocol\n",
    "url = \"https://twelve-data1.p.rapidapi.com/\"\n",
    "endpoint_stock = \"stocks\"\n",
    "endpoint_quote = \"quote\"\n",
    "\n",
    "headers = {\n",
    "\t\"X-RapidAPI-Key\": \"\", #Put your API key in \" \"\n",
    "\t\"X-RapidAPI-Host\": \"\" #Put your API host in \" \"\n",
    "}    "
   ]
  },
  {
   "cell_type": "code",
   "execution_count": 4,
   "id": "891be778",
   "metadata": {},
   "outputs": [],
   "source": [
    "#get stocks name from NASDAQ\n",
    "name_querystring = {\"exchange\":\"NASDAQ\",\"format\":\"json\"}\n",
    "name_response = requests.request(\"GET\", url+endpoint_stock, headers=headers, params=name_querystring)\n",
    "name = name_response.json()[\"data\"]\n",
    "stocks_name = []\n",
    "for n in name : \n",
    "    stocks_name.append(n[\"symbol\"])\n",
    "stocks_name.remove(\"AACOU\") #avoid this stock because api went to some error"
   ]
  },
  {
   "cell_type": "code",
   "execution_count": 6,
   "id": "37698760",
   "metadata": {},
   "outputs": [
    {
     "ename": "KeyError",
     "evalue": "'symbol'",
     "output_type": "error",
     "traceback": [
      "\u001b[1;31m---------------------------------------------------------------------------\u001b[0m",
      "\u001b[1;31mKeyError\u001b[0m                                  Traceback (most recent call last)",
      "Cell \u001b[1;32mIn[6], line 6\u001b[0m\n\u001b[0;32m      3\u001b[0m quote_response \u001b[38;5;241m=\u001b[39m requests\u001b[38;5;241m.\u001b[39mrequest(\u001b[38;5;124m\"\u001b[39m\u001b[38;5;124mGET\u001b[39m\u001b[38;5;124m\"\u001b[39m, url\u001b[38;5;241m+\u001b[39mendpoint_quote, headers\u001b[38;5;241m=\u001b[39mheaders, params\u001b[38;5;241m=\u001b[39m{\u001b[38;5;124m\"\u001b[39m\u001b[38;5;124msymbol\u001b[39m\u001b[38;5;124m\"\u001b[39m: d ,\u001b[38;5;124m\"\u001b[39m\u001b[38;5;124minterval\u001b[39m\u001b[38;5;124m\"\u001b[39m:\u001b[38;5;124m\"\u001b[39m\u001b[38;5;124m1day\u001b[39m\u001b[38;5;124m\"\u001b[39m,\u001b[38;5;124m\"\u001b[39m\u001b[38;5;124moutputsize\u001b[39m\u001b[38;5;124m\"\u001b[39m:\u001b[38;5;124m\"\u001b[39m\u001b[38;5;124m30\u001b[39m\u001b[38;5;124m\"\u001b[39m,\u001b[38;5;124m\"\u001b[39m\u001b[38;5;124mformat\u001b[39m\u001b[38;5;124m\"\u001b[39m:\u001b[38;5;124m\"\u001b[39m\u001b[38;5;124mjson\u001b[39m\u001b[38;5;124m\"\u001b[39m})\n\u001b[0;32m      4\u001b[0m data \u001b[38;5;241m=\u001b[39m quote_response\u001b[38;5;241m.\u001b[39mjson()\n\u001b[0;32m      5\u001b[0m buffer \u001b[38;5;241m=\u001b[39m {\n\u001b[1;32m----> 6\u001b[0m     \u001b[38;5;124m\"\u001b[39m\u001b[38;5;124msymbol\u001b[39m\u001b[38;5;124m\"\u001b[39m : \u001b[43mdata\u001b[49m\u001b[43m[\u001b[49m\u001b[38;5;124;43m\"\u001b[39;49m\u001b[38;5;124;43msymbol\u001b[39;49m\u001b[38;5;124;43m\"\u001b[39;49m\u001b[43m]\u001b[49m,\n\u001b[0;32m      7\u001b[0m     \u001b[38;5;124m\"\u001b[39m\u001b[38;5;124mdate\u001b[39m\u001b[38;5;124m\"\u001b[39m : data[\u001b[38;5;124m\"\u001b[39m\u001b[38;5;124mdatetime\u001b[39m\u001b[38;5;124m\"\u001b[39m],\n\u001b[0;32m      8\u001b[0m     \u001b[38;5;124m\"\u001b[39m\u001b[38;5;124mopen\u001b[39m\u001b[38;5;124m\"\u001b[39m : data[\u001b[38;5;124m\"\u001b[39m\u001b[38;5;124mopen\u001b[39m\u001b[38;5;124m\"\u001b[39m],\n\u001b[0;32m      9\u001b[0m     \u001b[38;5;124m\"\u001b[39m\u001b[38;5;124mhigh\u001b[39m\u001b[38;5;124m\"\u001b[39m : data[\u001b[38;5;124m\"\u001b[39m\u001b[38;5;124mhigh\u001b[39m\u001b[38;5;124m\"\u001b[39m] ,\n\u001b[0;32m     10\u001b[0m     \u001b[38;5;124m\"\u001b[39m\u001b[38;5;124mlow\u001b[39m\u001b[38;5;124m\"\u001b[39m : data[\u001b[38;5;124m\"\u001b[39m\u001b[38;5;124mlow\u001b[39m\u001b[38;5;124m\"\u001b[39m],\n\u001b[0;32m     11\u001b[0m     \u001b[38;5;124m\"\u001b[39m\u001b[38;5;124mclose\u001b[39m\u001b[38;5;124m\"\u001b[39m : data[\u001b[38;5;124m\"\u001b[39m\u001b[38;5;124mclose\u001b[39m\u001b[38;5;124m\"\u001b[39m],\n\u001b[0;32m     12\u001b[0m     \u001b[38;5;124m\"\u001b[39m\u001b[38;5;124mvolume\u001b[39m\u001b[38;5;124m\"\u001b[39m : data[\u001b[38;5;124m\"\u001b[39m\u001b[38;5;124mvolume\u001b[39m\u001b[38;5;124m\"\u001b[39m]\n\u001b[0;32m     13\u001b[0m }\n\u001b[0;32m     14\u001b[0m buffer \u001b[38;5;241m=\u001b[39m json\u001b[38;5;241m.\u001b[39mdumps(buffer)\n\u001b[0;32m     15\u001b[0m value \u001b[38;5;241m=\u001b[39m json\u001b[38;5;241m.\u001b[39mloads(buffer)\n",
      "\u001b[1;31mKeyError\u001b[0m: 'symbol'"
     ]
    }
   ],
   "source": [
    "#get data and send to consumer\n",
    "for d in stocks_name :\n",
    "    quote_response = requests.request(\"GET\", url+endpoint_quote, headers=headers, params={\"symbol\": d ,\"interval\":\"1day\",\"outputsize\":\"30\",\"format\":\"json\"})\n",
    "    data = quote_response.json()\n",
    "    buffer = {\n",
    "        \"symbol\" : data[\"symbol\"],\n",
    "        \"date\" : data[\"datetime\"],\n",
    "        \"open\" : data[\"open\"],\n",
    "        \"high\" : data[\"high\"] ,\n",
    "        \"low\" : data[\"low\"],\n",
    "        \"close\" : data[\"close\"],\n",
    "        \"volume\" : data[\"volume\"]\n",
    "    }\n",
    "    buffer = json.dumps(buffer)\n",
    "    value = json.loads(buffer)\n",
    "    producer.send(' ', value=value) #put the topic name in ' '\n",
    "    sleep(10) "
   ]
  }
 ],
 "metadata": {
  "kernelspec": {
   "display_name": "Python 3 (ipykernel)",
   "language": "python",
   "name": "python3"
  },
  "language_info": {
   "codemirror_mode": {
    "name": "ipython",
    "version": 3
   },
   "file_extension": ".py",
   "mimetype": "text/x-python",
   "name": "python",
   "nbconvert_exporter": "python",
   "pygments_lexer": "ipython3",
   "version": "3.10.5"
  }
 },
 "nbformat": 4,
 "nbformat_minor": 5
}
