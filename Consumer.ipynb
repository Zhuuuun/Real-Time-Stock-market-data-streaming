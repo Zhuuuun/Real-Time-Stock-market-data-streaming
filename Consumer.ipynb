{
 "cells": [
  {
   "cell_type": "code",
   "execution_count": null,
   "id": "db40d935",
   "metadata": {},
   "outputs": [],
   "source": [
    "from kafka import KafkaConsumer\n",
    "from json import dumps,loads\n",
    "from s3fs import S3FileSystem\n",
    "import json"
   ]
  },
  {
   "cell_type": "code",
   "execution_count": null,
   "id": "13faae76",
   "metadata": {},
   "outputs": [],
   "source": [
    "#Create object consumer\n",
    "consumer = KafkaConsumer(\n",
    "    ' ', #put the topic name in ' '\n",
    "     bootstrap_servers=[':9092'], #put your public IP in front of :\n",
    "    value_deserializer=lambda x: loads(x.decode('utf-8')))"
   ]
  },
  {
   "cell_type": "code",
   "execution_count": null,
   "id": "d8c17228",
   "metadata": {},
   "outputs": [],
   "source": [
    "#Create object s3 bucket\n",
    "s3 = S3FileSystem()"
   ]
  },
  {
   "cell_type": "code",
   "execution_count": null,
   "id": "817897c3",
   "metadata": {},
   "outputs": [],
   "source": [
    "for i,data in enumerate(consumer) :\n",
    "    with s3.open(\"s3://here/stock_market_{}.json\".format(i), 'w') as file: #put your S3 name between // and /\n",
    "        json.dump(data.value, file)"
   ]
  }
 ],
 "metadata": {
  "kernelspec": {
   "display_name": "Python 3 (ipykernel)",
   "language": "python",
   "name": "python3"
  },
  "language_info": {
   "codemirror_mode": {
    "name": "ipython",
    "version": 3
   },
   "file_extension": ".py",
   "mimetype": "text/x-python",
   "name": "python",
   "nbconvert_exporter": "python",
   "pygments_lexer": "ipython3",
   "version": "3.10.5"
  }
 },
 "nbformat": 4,
 "nbformat_minor": 5
}
